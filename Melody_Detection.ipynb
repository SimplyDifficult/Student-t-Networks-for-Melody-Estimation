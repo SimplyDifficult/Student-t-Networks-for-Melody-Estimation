{
  "nbformat": 4,
  "nbformat_minor": 0,
  "metadata": {
    "colab": {
      "name": "EE698R_new.ipynb",
      "provenance": [],
      "collapsed_sections": []
    },
    "kernelspec": {
      "display_name": "Python 3",
      "name": "python3"
    },
    "language_info": {
      "name": "python"
    },
    "accelerator": "GPU"
  },
  "cells": [
    {
      "cell_type": "code",
      "metadata": {
        "id": "szZJYufO8wsz"
      },
      "source": [
        "import numpy as np \n",
        "import math\n",
        "import glob\n",
        "\n",
        "from keras.regularizers import l2\n",
        "from keras.layers.advanced_activations import LeakyReLU\n",
        "from keras.models import Model\n",
        "from keras.layers.core import Dense, Dropout, Activation, Flatten\n",
        "from keras.layers import Conv2D, MaxPooling2D, BatchNormalization, Dropout,LSTM, Reshape, Bidirectional, TimeDistributed, Input, add\n",
        "    \n",
        "\n",
        "\n",
        "\n",
        "def ResNet_Block(input, block_id, filterNum):\n",
        "    ''' Create a ResNet block\n",
        "    Args:\n",
        "        input: input tensor\n",
        "        filterNum: number of output filters\n",
        "    Returns: a keras tensor\n",
        "    '''\n",
        "\n",
        "    x = Conv2D(filterNum, (1, 1), name='conv_s'+str(block_id)+'_1x1', padding='same',\n",
        "               kernel_initializer='he_normal', use_bias=False, kernel_regularizer=l2(1e-5))(input)\n",
        "    shortcut = BatchNormalization()(x)\n",
        "    x = LeakyReLU(0.01)(shortcut)\n",
        "\n",
        "    x = Conv2D(filterNum, (3, 3), name='conv'+str(block_id)+'_1', padding='same',\n",
        "               kernel_initializer='he_normal', use_bias=False, kernel_regularizer=l2(1e-5))(x)\n",
        "    x = BatchNormalization()(x)\n",
        "    x = LeakyReLU(0.01)(x)\n",
        "\n",
        "    x = Conv2D(filterNum, (3, 3), name='conv'+str(block_id)+'_2', padding='same',\n",
        "               kernel_initializer='he_normal', use_bias=False, kernel_regularizer=l2(1e-5))(x)\n",
        "    x = BatchNormalization()(x)\n",
        "    x = LeakyReLU(0.01)(x)\n",
        "\n",
        "    x = Conv2D(filterNum, (1, 1), name='conv_f'+str(block_id)+'_1x1', padding='same',\n",
        "               kernel_initializer='he_normal', use_bias=False, kernel_regularizer=l2(1e-5))(x)\n",
        "    x = BatchNormalization()(x)\n",
        "\n",
        "    x = add([x, shortcut])\n",
        "    x = LeakyReLU(0.01)(x)\n",
        "    x = MaxPooling2D((1, 4))(x)\n",
        "    return x\n",
        "\n",
        "\n",
        "\n",
        "\n",
        "def melody_ResNet():\n",
        "    num_output = int(55 * 2 ** (math.log(8, 2)) + 2)\n",
        "    input = Input(shape=(31, 513, 1))\n",
        "\n",
        "    block_1 = ResNet_Block(input=input, block_id=1,\n",
        "                             filterNum=64)\n",
        "    block_4 = ResNet_Block(input=block_1, block_id=2,\n",
        "                             filterNum=256)\n",
        "    block_4 = Dropout(0.5)(block_4)\n",
        "\n",
        "    numOutput_P = block_4.shape[2] * block_4.shape[3]\n",
        "    output = Reshape((31, numOutput_P))(block_4)\n",
        "    output = Bidirectional(LSTM(256, return_sequences=True, recurrent_dropout=0.3, dropout=0.3))(output)\n",
        "    output = TimeDistributed(Dense(num_output))(output)\n",
        "    output = TimeDistributed(Activation(\"softmax\", name='softmax'))(output)\n",
        "\n",
        "\n",
        "    model = Model(inputs=input, outputs=output)\n",
        "    return model"
      ],
      "execution_count": null,
      "outputs": []
    },
    {
      "cell_type": "code",
      "metadata": {
        "colab": {
          "base_uri": "https://localhost:8080/"
        },
        "id": "lnFau19xxsN4",
        "outputId": "ea1a84d8-43cf-4db3-a3d5-b40abfd8118e"
      },
      "source": [
        "import librosa\n",
        "from pathlib import Path\n",
        "from sklearn.preprocessing import OneHotEncoder,LabelEncoder\n",
        "import os\n",
        "import csv\n",
        "\n",
        "pitch_dir = '/content/drive/MyDrive/ATML-project/MIR-1K/PitchLabel-1'\n",
        "wav_file = \"/content/drive/MyDrive/ATML-project/MIR-1K/Wavfile\"\n",
        "\n",
        "\n",
        "def onehotlabel(pitch_range):\n",
        "    values = np.asarray(pitch_range)\n",
        "    # integer encode\n",
        "    label_encoder = LabelEncoder()\n",
        "    integer_encoded = label_encoder.fit_transform(values)\n",
        "#     print(integer_encoded)\n",
        "\n",
        "    # binary encode\n",
        "    onehot_encoder = OneHotEncoder(sparse=False)\n",
        "    integer_encoded = integer_encoded.reshape(len(integer_encoded), 1)\n",
        "    onehot_encoded = onehot_encoder.fit_transform(integer_encoded)\n",
        "    return onehot_encoded\n",
        "\n",
        "def getonehot(y):    \n",
        "    yhot = np.zeros((len(y),len(pitch_range)))\n",
        "    for i in range(len(y)):\n",
        "        idx,val = closest(pitch_range,y[i]) \n",
        "#         print(idx,val,y[i])\n",
        "        yhot[i,:] = onehot_pitch_range[idx,:]\n",
        "    return yhot\n",
        "\n",
        "def closest(arr, K):  # arr is a vector\n",
        "    idx = (np.abs(arr - K)).argmin() \n",
        "    return idx,arr[idx]\n",
        "\n",
        "def spec_extraction(file_name, win_size,test=False):\n",
        "    x_test = []\n",
        "    y, sr = librosa.load(file_name, sr=8000)\n",
        "    S = librosa.core.stft(y, n_fft=1024, hop_length=80, win_length=1024)\n",
        "    x_spec = np.abs(S)\n",
        "    x_spec = librosa.core.power_to_db(x_spec, ref=np.max)\n",
        "    x_spec = x_spec.astype(np.float32)\n",
        "    if test:\n",
        "      gtv,gtf = get_pitch_test(file_name)\n",
        "    else:\n",
        "      gtv,gtf = get_pitch(file_name)\n",
        "    num_frames = x_spec.shape[1]\n",
        "    # for padding\n",
        "    padNum = num_frames % win_size\n",
        "    if padNum != 0:\n",
        "        len_pad = win_size - padNum\n",
        "        padding_feature = np.zeros(shape=(513, len_pad))\n",
        "        x_spec = np.concatenate((x_spec, padding_feature), axis=1)\n",
        "        num_frames = num_frames + len_pad\n",
        "    gtf = np.append(gtf,np.zeros(np.shape(x_spec)[1]-len(gtf)))\n",
        "    # to convert frequency from Hz to MIDI values\n",
        "    gtf_midi = [librosa.hz_to_midi(x) if x!=float(0) else float(0) for x in gtf]\n",
        "    gtf_midi = getonehot(gtf_midi)\n",
        "    y_test = []\n",
        "    for j in range(0, num_frames, win_size):\n",
        "        x_test_tmp = x_spec[:, range(j, j + win_size)].T\n",
        "        x_test.append(x_test_tmp)\n",
        "        y_test_tmp = gtf_midi[j:j + win_size,:]\n",
        "        y_test.append(y_test_tmp)\n",
        "    x_test = np.array(x_test)\n",
        "    y_test = np.array(y_test)\n",
        "\n",
        "    x_train_mean = np.load('/content/x_data_mean_total_31.npy')\n",
        "    x_train_std = np.load('/content/x_data_std_total_31.npy')\n",
        "    x_test = (x_test-x_train_mean)/(x_train_std+0.0001)\n",
        "    x_test = x_test[:, :, :, np.newaxis]\n",
        "\n",
        "    return gtv,y_test,x_test\n",
        "\n",
        "# To load true labels for Training\n",
        "def get_pitch(file):\n",
        "  gtf = []\n",
        "  gtv = []\n",
        "  pathname = os.path.splitext(file)[0]\n",
        "  filename = os.path.basename(pathname)\n",
        "  ff = pitch_dir + '/' + filename + ' .csv'\n",
        "  with open(ff,'r') as fin:\n",
        "      reader = csv.reader(fin)\n",
        "      for row in reader:\n",
        "          gtv.append(float(row[0]))\n",
        "          gtf.append(float(row[1]))\n",
        "    \n",
        "  return gtv,gtf  \n",
        "\n",
        "# To load true labels for Evaluation\n",
        "def get_pitch_test(file):\n",
        "  gtf = []\n",
        "  gtv = []\n",
        "  pathname = os.path.splitext(file)[0]\n",
        "  filename = os.path.basename(pathname)\n",
        "  ff = pitch_dir + '/' + filename + ' .csv'\n",
        "  with open(ff,'r') as fin:\n",
        "      reader = csv.reader(fin)\n",
        "      for row in reader:\n",
        "          gtv.append(float(row[0]))\n",
        "          gtf.append(float(row[1]))\n",
        "    \n",
        "  return gtv,gtf  \n",
        "\n",
        "# pitch label quantized with a resolution of 1/8 semitone\n",
        "note_res = 8\n",
        "pitch_range = np.arange(40, 95 + 1.0/note_res, 1.0/note_res)\n",
        "pitch_range = np.concatenate([np.zeros(1), pitch_range])\n",
        "print(len(pitch_range))\n",
        "onehot_pitch_range = onehotlabel(pitch_range)\n",
        "  "
      ],
      "execution_count": null,
      "outputs": [
        {
          "output_type": "stream",
          "text": [
            "442\n"
          ],
          "name": "stdout"
        }
      ]
    },
    {
      "cell_type": "code",
      "metadata": {
        "id": "vFIAAEMJ1Lh_"
      },
      "source": [
        "files = glob.glob(wav_file+'/*.wav')\n",
        "files.sort()\n",
        "X = []\n",
        "Y = []\n",
        "for file in files[:5]:\n",
        "  time,true_pitch,x = spec_extraction(file, 31)\n",
        "  X.extend(x)\n",
        "  Y.extend(true_pitch)"
      ],
      "execution_count": null,
      "outputs": []
    },
    {
      "cell_type": "code",
      "metadata": {
        "colab": {
          "base_uri": "https://localhost:8080/"
        },
        "id": "oN9ZbCSu46lu",
        "outputId": "c1ac4d8d-1e51-490d-e21e-7223e90be04b"
      },
      "source": [
        "from sklearn.model_selection import train_test_split\n",
        "X = np.reshape(X,(-1,31,513,1))\n",
        "Y = np.reshape(Y,(-1,31,442))\n",
        "print(np.shape(X),np.shape(Y))\n",
        "X_train,X_test,y_train,y_test = train_test_split(X,Y,test_size=0.4)"
      ],
      "execution_count": null,
      "outputs": [
        {
          "output_type": "stream",
          "text": [
            "(129, 31, 513, 1) (129, 31, 442)\n"
          ],
          "name": "stdout"
        }
      ]
    },
    {
      "cell_type": "code",
      "metadata": {
        "id": "MVgTjc8W5zWm"
      },
      "source": [
        "# Training Teacher model using supervised learning\n",
        "model = melody_ResNet()\n",
        "print(model.summary())\n",
        "# Remove the below comment to load the pre-trained model\n",
        "# model.load_weights('/content/drive/MyDrive/ATML-project/crnn.h5')\n",
        "model.compile(optimizer='adam',loss='categorical_crossentropy',metrics='accuracy')\n",
        "history = model.fit(X_train,y_train,batch_size=64,epochs=25,validation_data=(X_test,y_test))"
      ],
      "execution_count": null,
      "outputs": []
    },
    {
      "cell_type": "code",
      "metadata": {
        "id": "GET_Ss7kTFWn",
        "colab": {
          "base_uri": "https://localhost:8080/",
          "height": 265
        },
        "outputId": "e214e665-2572-48f4-9439-53923bc8aac8"
      },
      "source": [
        "# For generating the Plots of Training Acc and Validation Acc while Training the model\n",
        "\n",
        "import matplotlib.pyplot as plt\n",
        "fig,ax = plt.subplots()\n",
        "ax.plot(history.history['accuracy'],'r')\n",
        "ax.plot(history.history['val_accuracy'],'b')\n",
        "plt.legend(['Train Accuracy','Validation Accuracy'])\n",
        "plt.show()"
      ],
      "execution_count": null,
      "outputs": [
        {
          "output_type": "display_data",
          "data": {
            "image/png": "[encoded data removed]",
            "text/plain": [
              "<Figure size 432x288 with 1 Axes>"
            ]
          },
          "metadata": {
            "tags": [],
            "needs_background": "light"
          }
        }
      ]
    },
    {
      "cell_type": "code",
      "metadata": {
        "id": "0i-AGC8BUunx"
      },
      "source": [
        "# Training the Teacher Student Model\n",
        "import keras as K\n",
        "T = melody_ResNet()\n",
        "T.load_weights('/content/drive/MyDrive/Models/crnn.h5')\n",
        "X_d_train,X_d_test,y_d_train,y_d_test = train_test_split(X_train,y_train,test_size = 0.2)\n",
        "y_teacher = T.predict(X_test)\n",
        "print(y_teacher)\n",
        "y_train_student = np.concatenate((y_d_train,y_teacher)) \n",
        "X_train_student = np.concatenate((X_d_train,X_test))\n",
        "S = melody_ResNet()\n",
        "S.compile(optimizer='adam',loss='categorical_crossentropy',metrics='accuracy')\n",
        "history1 = S.fit(X_train_student,y_train_student,batch_size=64,epochs=20,validation_data=(X_d_test,y_d_test))\n",
        "print(\"New Model Saved\")\n",
        "S.save('/content/drive/MyDrive/ATML-project/teacher_student_new.h5')"
      ],
      "execution_count": null,
      "outputs": []
    },
    {
      "cell_type": "code",
      "metadata": {
        "colab": {
          "base_uri": "https://localhost:8080/"
        },
        "id": "LFlZiHYPmUtx",
        "outputId": "15c287f4-47e0-419a-c99d-b5c61c3618c0"
      },
      "source": [
        "print(y_d_train)"
      ],
      "execution_count": null,
      "outputs": [
        {
          "output_type": "stream",
          "text": [
            "[[[0. 0. 0. ... 0. 0. 0.]\n",
            "  [0. 0. 0. ... 0. 0. 0.]\n",
            "  [0. 0. 0. ... 0. 0. 0.]\n",
            "  ...\n",
            "  [0. 0. 0. ... 0. 0. 0.]\n",
            "  [0. 0. 0. ... 0. 0. 0.]\n",
            "  [0. 0. 0. ... 0. 0. 0.]]\n",
            "\n",
            " [[0. 0. 0. ... 0. 0. 0.]\n",
            "  [0. 0. 0. ... 0. 0. 0.]\n",
            "  [0. 0. 0. ... 0. 0. 0.]\n",
            "  ...\n",
            "  [1. 0. 0. ... 0. 0. 0.]\n",
            "  [1. 0. 0. ... 0. 0. 0.]\n",
            "  [1. 0. 0. ... 0. 0. 0.]]\n",
            "\n",
            " [[1. 0. 0. ... 0. 0. 0.]\n",
            "  [1. 0. 0. ... 0. 0. 0.]\n",
            "  [1. 0. 0. ... 0. 0. 0.]\n",
            "  ...\n",
            "  [0. 0. 0. ... 0. 0. 0.]\n",
            "  [0. 0. 0. ... 0. 0. 0.]\n",
            "  [0. 0. 0. ... 0. 0. 0.]]\n",
            "\n",
            " ...\n",
            "\n",
            " [[1. 0. 0. ... 0. 0. 0.]\n",
            "  [1. 0. 0. ... 0. 0. 0.]\n",
            "  [1. 0. 0. ... 0. 0. 0.]\n",
            "  ...\n",
            "  [1. 0. 0. ... 0. 0. 0.]\n",
            "  [1. 0. 0. ... 0. 0. 0.]\n",
            "  [1. 0. 0. ... 0. 0. 0.]]\n",
            "\n",
            " [[1. 0. 0. ... 0. 0. 0.]\n",
            "  [1. 0. 0. ... 0. 0. 0.]\n",
            "  [1. 0. 0. ... 0. 0. 0.]\n",
            "  ...\n",
            "  [0. 0. 0. ... 0. 0. 0.]\n",
            "  [0. 0. 0. ... 0. 0. 0.]\n",
            "  [0. 0. 0. ... 0. 0. 0.]]\n",
            "\n",
            " [[0. 0. 0. ... 0. 0. 0.]\n",
            "  [0. 0. 0. ... 0. 0. 0.]\n",
            "  [0. 0. 0. ... 0. 0. 0.]\n",
            "  ...\n",
            "  [0. 0. 0. ... 0. 0. 0.]\n",
            "  [0. 0. 0. ... 0. 0. 0.]\n",
            "  [0. 0. 0. ... 0. 0. 0.]]]\n"
          ],
          "name": "stdout"
        }
      ]
    },
    {
      "cell_type": "code",
      "metadata": {
        "id": "bTjaE7kwXVS9",
        "colab": {
          "base_uri": "https://localhost:8080/",
          "height": 265
        },
        "outputId": "8a6b078f-4306-44a4-df01-747b149c70ed"
      },
      "source": [
        "import matplotlib.pyplot as plt\n",
        "fig,ax = plt.subplots()\n",
        "ax.plot(history1.history['accuracy'],'r')\n",
        "ax.plot(history1.history['val_accuracy'],'b')\n",
        "plt.legend(['Train Accuracy','Validation Accuracy'])\n",
        "plt.show()"
      ],
      "execution_count": null,
      "outputs": [
        {
          "output_type": "display_data",
          "data": {
            "image/png": "[encoded data removed]",
            "text/plain": [
              "<Figure size 432x288 with 1 Axes>"
            ]
          },
          "metadata": {
            "tags": [],
            "needs_background": "light"
          }
        }
      ]
    },
    {
      "cell_type": "code",
      "metadata": {
        "id": "Ogn-xhQ9xU-U"
      },
      "source": [
        "def Thres(a):\n",
        "    if -0.5<a and a<0.5:\n",
        "        t=1\n",
        "    else:\n",
        "        t=0\n",
        "    return t\n",
        "\n",
        "def VoiceRecall(v, pred_Melody):\n",
        "    N=0\n",
        "    D=0\n",
        "    Nt = len(v)\n",
        "    for i in range(Nt):\n",
        "        if v[i]==1:\n",
        "            D+=1\n",
        "            if pred_Melody[i]!=0:\n",
        "                N+=1\n",
        "    if D==N:\n",
        "        return 100\n",
        "    VR=(N/D)*100\n",
        "    return VR\n",
        "\n",
        "def VoiceFalseAlarm(v, pred_Melody):\n",
        "    N=0\n",
        "    D=0\n",
        "    Nt = len(v)\n",
        "    for i in range(Nt):\n",
        "        if v[i]==0:\n",
        "            D+=1\n",
        "            if pred_Melody[i]!=0:\n",
        "                N+=1\n",
        "    if D==N:\n",
        "        return 100\n",
        "    VFA=(N/D)*100\n",
        "    return VFA\n",
        "\n",
        "def Accuracy(v, pred_Melody, pitch_labels):\n",
        "    N=0\n",
        "    Nt = len(v)\n",
        "    for i in range(Nt):\n",
        "        if v[i]==1:\n",
        "            if pred_Melody[i]!=0:\n",
        "                N+=v[i]*Thres(pred_Melody[i]-pitch_labels[i])\n",
        "        else:\n",
        "            if pred_Melody[i]==0:\n",
        "                N+=1\n",
        "    accuracy=(N/Nt)*100\n",
        "    return accuracy"
      ],
      "execution_count": null,
      "outputs": []
    },
    {
      "cell_type": "code",
      "metadata": {
        "colab": {
          "base_uri": "https://localhost:8080/"
        },
        "id": "A5QVRh40gNxE",
        "outputId": "0f774cb4-8d4c-4ec8-cb9a-294777749378"
      },
      "source": [
        "# For Evaluation\n",
        "%pip install mir_eval\n",
        "from mir_eval.melody import raw_pitch_accuracy, raw_chroma_accuracy, hz2cents\n",
        "\n",
        "def predict_pitch(y_predict):\n",
        "    y_shape = y_predict.shape\n",
        "    num_total_frame = y_shape[0]*y_shape[1]\n",
        "    est_pitch = np.zeros(num_total_frame)\n",
        "    index_predict = np.zeros(num_total_frame)\n",
        "\n",
        "    y_predict = np.reshape(y_predict, (num_total_frame, y_shape[2]))\n",
        "\n",
        "    for i in range(num_total_frame):\n",
        "        index_predict[i] = np.argmax(y_predict[i, :])\n",
        "        est_pitch[i] = pitch_range[np.int32(index_predict[i])]\n",
        "        \n",
        "    return est_pitch\n",
        "\n",
        "pitch_dir = '/content/drive/MyDrive/ATML-project/MIR-1K/adc2004_labels'\n",
        "wav_file = \"/content/drive/MyDrive/ATML-project/MIR-1K/adc2004_wav\"\n",
        "\n",
        "def evaluation_metrics(wav_file, pitch_dir, model):\n",
        "  files = glob.glob(wav_file+'/*.wav')\n",
        "  files.sort()\n",
        "  total_rpa,total_rca,total_vfa,total_vr,total_oa = 0,0,0,0,0\n",
        "  for i in range(len(files)):  \n",
        "    print(files[i])\n",
        "    time,y_true,x = spec_extraction(files[i], 31,test=True)\n",
        "    x = np.reshape(x,(-1,31,513,1))\n",
        "    ypred = model.predict(x)\n",
        "    y_pred = librosa.midi_to_hz(predict_pitch(ypred))\n",
        "    y_true = librosa.midi_to_hz(predict_pitch(y_true))\n",
        "    ref_voicing = np.array([1 if i>0 else 0 for i in y_true])\n",
        "    est_voicing = np.array([1 if i>0 else 0 for i in y_pred])\n",
        "\n",
        "    y_true = hz2cents(y_true)\n",
        "    y_pred = hz2cents(y_pred)\n",
        "    \n",
        "    rpa = raw_pitch_accuracy(ref_voicing,y_true,est_voicing,y_pred)\n",
        "    rca = raw_chroma_accuracy(ref_voicing,y_true,est_voicing,y_pred)\n",
        "    vfa = VoiceFalseAlarm(ref_voicing, y_pred)\n",
        "    oa = Accuracy(ref_voicing,y_pred,y_true)\n",
        "    vr = VoiceRecall(ref_voicing, y_pred)\n",
        "\n",
        "    total_rpa+=rpa\n",
        "    total_rca+=rca\n",
        "    total_vfa+=vfa\n",
        "    total_vr+=vr\n",
        "    total_oa+=oa\n",
        "    #print('RPA : ',rpa,'RCA : ',rca)\n",
        "  print('Avg RPA : ',total_rpa/len(files))\n",
        "  print('Avg RCA : ',total_rca/len(files))\n",
        "  print('Avg VFA : ',total_vfa/len(files))\n",
        "  print('Avg VR : ',total_vr/len(files))\n",
        "  print('Avg OA : ',total_oa/len(files))\n",
        "  "
      ],
      "execution_count": null,
      "outputs": [
        {
          "output_type": "stream",
          "text": [
            "Collecting mir_eval\n",
            "\u001b[?25l  Downloading https://files.pythonhosted.org/packages/0a/fe/be4f7a59ed71938e21e89f23afe93eea0d39eb3e77f83754a12028cf1a68/mir_eval-0.6.tar.gz (87kB)\n",
            "\r\u001b[K     |███▊                            | 10kB 18.1MB/s eta 0:00:01\r\u001b[K     |███████▌                        | 20kB 25.4MB/s eta 0:00:01\r\u001b[K     |███████████▏                    | 30kB 23.7MB/s eta 0:00:01\r\u001b[K     |███████████████                 | 40kB 18.0MB/s eta 0:00:01\r\u001b[K     |██████████████████▋             | 51kB 9.2MB/s eta 0:00:01\r\u001b[K     |██████████████████████▍         | 61kB 10.7MB/s eta 0:00:01\r\u001b[K     |██████████████████████████      | 71kB 9.6MB/s eta 0:00:01\r\u001b[K     |█████████████████████████████▉  | 81kB 9.7MB/s eta 0:00:01\r\u001b[K     |████████████████████████████████| 92kB 6.3MB/s \n",
            "\u001b[?25hRequirement already satisfied: numpy>=1.7.0 in /usr/local/lib/python3.7/dist-packages (from mir_eval) (1.19.5)\n",
            "Requirement already satisfied: scipy>=1.0.0 in /usr/local/lib/python3.7/dist-packages (from mir_eval) (1.4.1)\n",
            "Requirement already satisfied: future in /usr/local/lib/python3.7/dist-packages (from mir_eval) (0.16.0)\n",
            "Requirement already satisfied: six in /usr/local/lib/python3.7/dist-packages (from mir_eval) (1.15.0)\n",
            "Building wheels for collected packages: mir-eval\n",
            "  Building wheel for mir-eval (setup.py) ... \u001b[?25l\u001b[?25hdone\n",
            "  Created wheel for mir-eval: filename=mir_eval-0.6-cp37-none-any.whl size=96515 sha256=398c4dd659187b8b5693f9c6d3d9efdfa16f36d63bf4090f196684fc5a861db0\n",
            "  Stored in directory: /root/.cache/pip/wheels/49/ce/30/730fa72addf275e49d90683b01b3613048b4be3bf7ff8eb6ec\n",
            "Successfully built mir-eval\n",
            "Installing collected packages: mir-eval\n",
            "Successfully installed mir-eval-0.6\n"
          ],
          "name": "stdout"
        }
      ]
    },
    {
      "cell_type": "code",
      "metadata": {
        "colab": {
          "base_uri": "https://localhost:8080/"
        },
        "id": "K8ru6KsqgCii",
        "outputId": "e1a8fbb3-3cfb-4009-b456-5219d27f2ced"
      },
      "source": [
        "T = melody_ResNet()\n",
        "T.load_weights('/content/drive/MyDrive/Models/teacher_student_new.h5')\n",
        "evaluation_metrics(wav_file,pitch_dir,T)"
      ],
      "execution_count": null,
      "outputs": [
        {
          "output_type": "stream",
          "text": [
            "WARNING:tensorflow:Layer lstm_11 will not use cuDNN kernel since it doesn't meet the cuDNN kernel criteria. It will use generic GPU kernel as fallback when running on GPU\n",
            "WARNING:tensorflow:Layer lstm_11 will not use cuDNN kernel since it doesn't meet the cuDNN kernel criteria. It will use generic GPU kernel as fallback when running on GPU\n",
            "WARNING:tensorflow:Layer lstm_11 will not use cuDNN kernel since it doesn't meet the cuDNN kernel criteria. It will use generic GPU kernel as fallback when running on GPU\n",
            "/content/drive/MyDrive/ATML-project/MIR-1K/Mirex05_wavfiles/train01.wav\n",
            "/content/drive/MyDrive/ATML-project/MIR-1K/Mirex05_wavfiles/train02.wav\n",
            "/content/drive/MyDrive/ATML-project/MIR-1K/Mirex05_wavfiles/train03.wav\n",
            "/content/drive/MyDrive/ATML-project/MIR-1K/Mirex05_wavfiles/train04.wav\n",
            "/content/drive/MyDrive/ATML-project/MIR-1K/Mirex05_wavfiles/train05.wav\n",
            "/content/drive/MyDrive/ATML-project/MIR-1K/Mirex05_wavfiles/train06.wav\n",
            "/content/drive/MyDrive/ATML-project/MIR-1K/Mirex05_wavfiles/train07.wav\n",
            "/content/drive/MyDrive/ATML-project/MIR-1K/Mirex05_wavfiles/train08.wav\n",
            "/content/drive/MyDrive/ATML-project/MIR-1K/Mirex05_wavfiles/train09.wav\n",
            "/content/drive/MyDrive/ATML-project/MIR-1K/Mirex05_wavfiles/train10.wav\n",
            "/content/drive/MyDrive/ATML-project/MIR-1K/Mirex05_wavfiles/train11.wav\n",
            "/content/drive/MyDrive/ATML-project/MIR-1K/Mirex05_wavfiles/train12.wav\n",
            "/content/drive/MyDrive/ATML-project/MIR-1K/Mirex05_wavfiles/train13.wav\n",
            "Avg RPA :  0.656756690164216\n",
            "Avg RCA :  0.699294218290363\n",
            "Avg VFA :  100.0\n",
            "Avg VR :  100.0\n",
            "Avg OA :  41.84438885568402\n"
          ],
          "name": "stdout"
        }
      ]
    },
    {
      "cell_type": "code",
      "metadata": {
        "id": "sptrRvoDgXO4"
      },
      "source": [
        "T = melody_ResNet()\n",
        "T.load_weights('/content/drive/MyDrive/Models/crnn.h5')\n",
        "evaluation_metrics(wav_file,pitch_dir,T)"
      ],
      "execution_count": null,
      "outputs": []
    },
    {
      "cell_type": "code",
      "metadata": {
        "colab": {
          "base_uri": "https://localhost:8080/"
        },
        "id": "yrw6rUtIj-MF",
        "outputId": "56a94a31-8b20-44ca-d1e1-12b8bc23fc86"
      },
      "source": [
        "T = melody_ResNet()\n",
        "T.load_weights('/content/drive/MyDrive/ATML-project/ResNet_NS.hdf5')\n",
        "evaluation_metrics(wav_file,pitch_dir,T)"
      ],
      "execution_count": null,
      "outputs": [
        {
          "output_type": "stream",
          "text": [
            "WARNING:tensorflow:Layer lstm_13 will not use cuDNN kernel since it doesn't meet the cuDNN kernel criteria. It will use generic GPU kernel as fallback when running on GPU\n",
            "WARNING:tensorflow:Layer lstm_13 will not use cuDNN kernel since it doesn't meet the cuDNN kernel criteria. It will use generic GPU kernel as fallback when running on GPU\n",
            "WARNING:tensorflow:Layer lstm_13 will not use cuDNN kernel since it doesn't meet the cuDNN kernel criteria. It will use generic GPU kernel as fallback when running on GPU\n",
            "/content/drive/MyDrive/ATML-project/MIR-1K/Mirex05_wavfiles/train01.wav\n",
            "/content/drive/MyDrive/ATML-project/MIR-1K/Mirex05_wavfiles/train02.wav\n",
            "/content/drive/MyDrive/ATML-project/MIR-1K/Mirex05_wavfiles/train03.wav\n",
            "/content/drive/MyDrive/ATML-project/MIR-1K/Mirex05_wavfiles/train04.wav\n",
            "/content/drive/MyDrive/ATML-project/MIR-1K/Mirex05_wavfiles/train05.wav\n",
            "/content/drive/MyDrive/ATML-project/MIR-1K/Mirex05_wavfiles/train06.wav\n",
            "/content/drive/MyDrive/ATML-project/MIR-1K/Mirex05_wavfiles/train07.wav\n",
            "/content/drive/MyDrive/ATML-project/MIR-1K/Mirex05_wavfiles/train08.wav\n",
            "/content/drive/MyDrive/ATML-project/MIR-1K/Mirex05_wavfiles/train09.wav\n",
            "/content/drive/MyDrive/ATML-project/MIR-1K/Mirex05_wavfiles/train10.wav\n",
            "/content/drive/MyDrive/ATML-project/MIR-1K/Mirex05_wavfiles/train11.wav\n",
            "/content/drive/MyDrive/ATML-project/MIR-1K/Mirex05_wavfiles/train12.wav\n",
            "/content/drive/MyDrive/ATML-project/MIR-1K/Mirex05_wavfiles/train13.wav\n",
            "Avg RPA :  0.7684729655733779\n",
            "Avg RCA :  0.7907108137808255\n",
            "Avg VFA :  100.0\n",
            "Avg VR :  100.0\n",
            "Avg OA :  52.48805253596152\n"
          ],
          "name": "stdout"
        }
      ]
    },
    {
      "cell_type": "code",
      "metadata": {
        "colab": {
          "base_uri": "https://localhost:8080/"
        },
        "id": "DyNumzANk7I7",
        "outputId": "b41d3bf0-8c6e-4c11-c8d9-f97b7225f018"
      },
      "source": [
        "T = melody_ResNet()\n",
        "T.load_weights('/content/drive/MyDrive/ATML-project/ResNet_NS.hdf5')\n",
        "evaluation_metrics(wav_file,pitch_dir,T)"
      ],
      "execution_count": null,
      "outputs": [
        {
          "output_type": "stream",
          "text": [
            "WARNING:tensorflow:Layer lstm_19 will not use cuDNN kernel since it doesn't meet the cuDNN kernel criteria. It will use generic GPU kernel as fallback when running on GPU\n",
            "WARNING:tensorflow:Layer lstm_19 will not use cuDNN kernel since it doesn't meet the cuDNN kernel criteria. It will use generic GPU kernel as fallback when running on GPU\n",
            "WARNING:tensorflow:Layer lstm_19 will not use cuDNN kernel since it doesn't meet the cuDNN kernel criteria. It will use generic GPU kernel as fallback when running on GPU\n",
            "/content/drive/MyDrive/ATML-project/MIR-1K/adc2004_wav/daisy1.wav\n",
            "/content/drive/MyDrive/ATML-project/MIR-1K/adc2004_wav/daisy2.wav\n",
            "/content/drive/MyDrive/ATML-project/MIR-1K/adc2004_wav/daisy3.wav\n",
            "/content/drive/MyDrive/ATML-project/MIR-1K/adc2004_wav/daisy4.wav\n",
            "/content/drive/MyDrive/ATML-project/MIR-1K/adc2004_wav/jazz1.wav\n",
            "/content/drive/MyDrive/ATML-project/MIR-1K/adc2004_wav/jazz2.wav\n",
            "/content/drive/MyDrive/ATML-project/MIR-1K/adc2004_wav/jazz3.wav\n",
            "/content/drive/MyDrive/ATML-project/MIR-1K/adc2004_wav/jazz4.wav\n",
            "/content/drive/MyDrive/ATML-project/MIR-1K/adc2004_wav/midi1.wav\n",
            "/content/drive/MyDrive/ATML-project/MIR-1K/adc2004_wav/midi2.wav\n",
            "/content/drive/MyDrive/ATML-project/MIR-1K/adc2004_wav/midi3.wav\n",
            "/content/drive/MyDrive/ATML-project/MIR-1K/adc2004_wav/midi4.wav\n",
            "/content/drive/MyDrive/ATML-project/MIR-1K/adc2004_wav/opera_fem2.wav\n",
            "/content/drive/MyDrive/ATML-project/MIR-1K/adc2004_wav/opera_fem4.wav\n",
            "/content/drive/MyDrive/ATML-project/MIR-1K/adc2004_wav/opera_male3.wav\n",
            "/content/drive/MyDrive/ATML-project/MIR-1K/adc2004_wav/opera_male5.wav\n",
            "/content/drive/MyDrive/ATML-project/MIR-1K/adc2004_wav/pop1.wav\n",
            "/content/drive/MyDrive/ATML-project/MIR-1K/adc2004_wav/pop2.wav\n",
            "/content/drive/MyDrive/ATML-project/MIR-1K/adc2004_wav/pop3.wav\n",
            "/content/drive/MyDrive/ATML-project/MIR-1K/adc2004_wav/pop4.wav\n",
            "Avg RPA :  0.3444205069449185\n",
            "Avg RCA :  0.39059014006320447\n",
            "Avg VFA :  100.0\n",
            "Avg VR :  100.0\n",
            "Avg OA :  23.96939888905879\n"
          ],
          "name": "stdout"
        }
      ]
    },
    {
      "cell_type": "code",
      "metadata": {
        "colab": {
          "base_uri": "https://localhost:8080/"
        },
        "id": "kf8ng6g5mUzN",
        "outputId": "50f8afdc-c4c9-436a-af9b-349247c78e89"
      },
      "source": [
        "T = melody_ResNet()\n",
        "T.load_weights('/content/drive/MyDrive/Models/crnn.h5')\n",
        "evaluation_metrics(wav_file,pitch_dir,T)"
      ],
      "execution_count": null,
      "outputs": [
        {
          "output_type": "stream",
          "text": [
            "WARNING:tensorflow:Layer lstm_20 will not use cuDNN kernel since it doesn't meet the cuDNN kernel criteria. It will use generic GPU kernel as fallback when running on GPU\n",
            "WARNING:tensorflow:Layer lstm_20 will not use cuDNN kernel since it doesn't meet the cuDNN kernel criteria. It will use generic GPU kernel as fallback when running on GPU\n",
            "WARNING:tensorflow:Layer lstm_20 will not use cuDNN kernel since it doesn't meet the cuDNN kernel criteria. It will use generic GPU kernel as fallback when running on GPU\n",
            "/content/drive/MyDrive/ATML-project/MIR-1K/adc2004_wav/daisy1.wav\n",
            "/content/drive/MyDrive/ATML-project/MIR-1K/adc2004_wav/daisy2.wav\n",
            "/content/drive/MyDrive/ATML-project/MIR-1K/adc2004_wav/daisy3.wav\n",
            "/content/drive/MyDrive/ATML-project/MIR-1K/adc2004_wav/daisy4.wav\n",
            "/content/drive/MyDrive/ATML-project/MIR-1K/adc2004_wav/jazz1.wav\n",
            "/content/drive/MyDrive/ATML-project/MIR-1K/adc2004_wav/jazz2.wav\n",
            "/content/drive/MyDrive/ATML-project/MIR-1K/adc2004_wav/jazz3.wav\n",
            "/content/drive/MyDrive/ATML-project/MIR-1K/adc2004_wav/jazz4.wav\n",
            "/content/drive/MyDrive/ATML-project/MIR-1K/adc2004_wav/midi1.wav\n",
            "/content/drive/MyDrive/ATML-project/MIR-1K/adc2004_wav/midi2.wav\n",
            "/content/drive/MyDrive/ATML-project/MIR-1K/adc2004_wav/midi3.wav\n",
            "/content/drive/MyDrive/ATML-project/MIR-1K/adc2004_wav/midi4.wav\n",
            "/content/drive/MyDrive/ATML-project/MIR-1K/adc2004_wav/opera_fem2.wav\n",
            "/content/drive/MyDrive/ATML-project/MIR-1K/adc2004_wav/opera_fem4.wav\n",
            "/content/drive/MyDrive/ATML-project/MIR-1K/adc2004_wav/opera_male3.wav\n",
            "/content/drive/MyDrive/ATML-project/MIR-1K/adc2004_wav/opera_male5.wav\n",
            "/content/drive/MyDrive/ATML-project/MIR-1K/adc2004_wav/pop1.wav\n",
            "/content/drive/MyDrive/ATML-project/MIR-1K/adc2004_wav/pop2.wav\n",
            "/content/drive/MyDrive/ATML-project/MIR-1K/adc2004_wav/pop3.wav\n",
            "/content/drive/MyDrive/ATML-project/MIR-1K/adc2004_wav/pop4.wav\n",
            "Avg RPA :  0.20153238377675448\n",
            "Avg RCA :  0.28148702848233864\n",
            "Avg VFA :  100.0\n",
            "Avg VR :  100.0\n",
            "Avg OA :  20.153238377675443\n"
          ],
          "name": "stdout"
        }
      ]
    },
    {
      "cell_type": "code",
      "metadata": {
        "colab": {
          "base_uri": "https://localhost:8080/"
        },
        "id": "_Tqm88avneZc",
        "outputId": "10a0ba20-4dea-4fb6-a5cb-5698b7657e34"
      },
      "source": [
        "T = melody_ResNet()\n",
        "T.load_weights('/content/drive/MyDrive/Models/teacher_student_new.h5')\n",
        "evaluation_metrics(wav_file,pitch_dir,T)"
      ],
      "execution_count": null,
      "outputs": [
        {
          "output_type": "stream",
          "text": [
            "WARNING:tensorflow:Layer lstm_21 will not use cuDNN kernel since it doesn't meet the cuDNN kernel criteria. It will use generic GPU kernel as fallback when running on GPU\n",
            "WARNING:tensorflow:Layer lstm_21 will not use cuDNN kernel since it doesn't meet the cuDNN kernel criteria. It will use generic GPU kernel as fallback when running on GPU\n",
            "WARNING:tensorflow:Layer lstm_21 will not use cuDNN kernel since it doesn't meet the cuDNN kernel criteria. It will use generic GPU kernel as fallback when running on GPU\n",
            "/content/drive/MyDrive/ATML-project/MIR-1K/adc2004_wav/daisy1.wav\n",
            "/content/drive/MyDrive/ATML-project/MIR-1K/adc2004_wav/daisy2.wav\n",
            "/content/drive/MyDrive/ATML-project/MIR-1K/adc2004_wav/daisy3.wav\n",
            "/content/drive/MyDrive/ATML-project/MIR-1K/adc2004_wav/daisy4.wav\n",
            "/content/drive/MyDrive/ATML-project/MIR-1K/adc2004_wav/jazz1.wav\n",
            "/content/drive/MyDrive/ATML-project/MIR-1K/adc2004_wav/jazz2.wav\n",
            "/content/drive/MyDrive/ATML-project/MIR-1K/adc2004_wav/jazz3.wav\n",
            "/content/drive/MyDrive/ATML-project/MIR-1K/adc2004_wav/jazz4.wav\n",
            "/content/drive/MyDrive/ATML-project/MIR-1K/adc2004_wav/midi1.wav\n",
            "/content/drive/MyDrive/ATML-project/MIR-1K/adc2004_wav/midi2.wav\n",
            "/content/drive/MyDrive/ATML-project/MIR-1K/adc2004_wav/midi3.wav\n",
            "/content/drive/MyDrive/ATML-project/MIR-1K/adc2004_wav/midi4.wav\n",
            "/content/drive/MyDrive/ATML-project/MIR-1K/adc2004_wav/opera_fem2.wav\n",
            "/content/drive/MyDrive/ATML-project/MIR-1K/adc2004_wav/opera_fem4.wav\n",
            "/content/drive/MyDrive/ATML-project/MIR-1K/adc2004_wav/opera_male3.wav\n",
            "/content/drive/MyDrive/ATML-project/MIR-1K/adc2004_wav/opera_male5.wav\n",
            "/content/drive/MyDrive/ATML-project/MIR-1K/adc2004_wav/pop1.wav\n",
            "/content/drive/MyDrive/ATML-project/MIR-1K/adc2004_wav/pop2.wav\n",
            "/content/drive/MyDrive/ATML-project/MIR-1K/adc2004_wav/pop3.wav\n",
            "/content/drive/MyDrive/ATML-project/MIR-1K/adc2004_wav/pop4.wav\n",
            "Avg RPA :  0.3331488439316975\n",
            "Avg RCA :  0.41077517854969425\n",
            "Avg VFA :  100.0\n",
            "Avg VR :  100.0\n",
            "Avg OA :  17.811497287406986\n"
          ],
          "name": "stdout"
        }
      ]
    },
    {
      "cell_type": "code",
      "metadata": {
        "id": "yOc94wMjnpoS"
      },
      "source": [
        ""
      ],
      "execution_count": null,
      "outputs": []
    }
  ]
}